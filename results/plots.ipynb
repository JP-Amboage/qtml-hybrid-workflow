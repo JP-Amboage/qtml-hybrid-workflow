{
 "cells": [
  {
   "cell_type": "markdown",
   "metadata": {},
   "source": [
    "# Algorithm Comparison Plots"
   ]
  },
  {
   "cell_type": "markdown",
   "metadata": {},
   "source": [
    "### Imports and aux methods"
   ]
  },
  {
   "cell_type": "code",
   "execution_count": null,
   "metadata": {},
   "outputs": [],
   "source": [
    "import pandas as pd\n",
    "import numpy as np\n",
    "import matplotlib.pyplot as plt\n",
    "\n",
    "fancy_stars = (5, 1)\n",
    "stars =(5, 2)\n",
    "\n",
    "def add_patch(legend, color, text):\n",
    "    from matplotlib.patches import Patch\n",
    "    ax = legend.axes\n",
    "\n",
    "    handles, labels = ax.get_legend_handles_labels()\n",
    "    handles.append(Patch(facecolor=color))\n",
    "    labels.append(text)\n",
    "\n",
    "    legend._legend_box = None\n",
    "    legend._init_legend_box(handles, labels)\n",
    "    legend._set_loc(legend._loc)\n",
    "    legend.set_title(legend.get_title().get_text())"
   ]
  },
  {
   "cell_type": "markdown",
   "metadata": {},
   "source": [
    "## MLPF"
   ]
  },
  {
   "cell_type": "markdown",
   "metadata": {},
   "source": [
    "### Load data"
   ]
  },
  {
   "cell_type": "code",
   "execution_count": null,
   "metadata": {},
   "outputs": [],
   "source": [
    "hb = pd.read_csv('./mlpf_hyperband.csv')\n",
    "svr = pd.read_csv('./mlpf_swift_svr.csv')\n",
    "qsvr = pd.read_csv('./mlpf_swift_qsvr.csv')\n",
    "if hb['loss'][0] < 0 :\n",
    "    hb['loss'] = -1 * hb['loss']\n",
    "    svr['loss'] = -1 * svr['loss']\n",
    "    qsvr['loss'] = -1 * qsvr['loss']\n",
    "\n",
    "# setup the dataframe\n",
    "#method = ['Hyperband', 'Fast-Hyperband', 'V2-Fast-\\nHyperband', \"Quantum\\nV2-Fast-Hyperband\"]\n",
    "method = ['Hyperband', 'Swift-Hyperband\\nSVR', \"Swift-Hyperband\\n\"+r'$\\bf{Q}\\bf{-}\\bf{SVR}$']\n",
    "losses = [hb['loss'].mean(), svr['loss'].mean(), qsvr['loss'].mean()]\n",
    "epochs = [hb['epochs'].mean(), svr['epochs'].mean(), qsvr['epochs'].mean()]\n",
    "\n",
    "aux_df = pd.DataFrame({'method':method,'loss':losses, 'epochs': epochs})"
   ]
  },
  {
   "cell_type": "markdown",
   "metadata": {},
   "source": [
    "### Plot"
   ]
  },
  {
   "cell_type": "code",
   "execution_count": null,
   "metadata": {},
   "outputs": [],
   "source": [
    "fig, ax = plt.subplots(figsize=(9*0.7, 5*0.7))\n",
    "ax.bar(x='method', height='loss', data=aux_df, color=(0.0, 1.0, 0.5, 0.65), edgecolor=(0.0, 1.0, 0.5, 0.5), width=0.6)\n",
    "ax.grid(axis=\"y\")\n",
    "\n",
    "ax.set_ylim(bottom=440, top=445) #mlpf\n",
    "ax.set_ylabel(\"Best loss found (\" + r\"$\\bf{lower}$ $\\bf{is}$ $\\bf{better}$\" +\")\")\n",
    "ax.set_title(\"Simulated runs - MLPF\")\n",
    "\n",
    "### code for loss/acc confidence interval\n",
    "dfs = [hb, svr, qsvr]\n",
    "for i in range(3):\n",
    "        df = dfs[i]\n",
    "        std = df['loss'].std()\n",
    "        mean = df['loss'].mean()\n",
    "        ax.hlines(y=mean+std, xmin=i-0.1-0.18, xmax=i+0.1-0.18, linewidth=2, color='green')\n",
    "        ax.hlines(y=mean-std, xmin=i-0.1-0.18, xmax=i+0.1-0.18, linewidth=2, color='green')\n",
    "        ax.vlines(x=i -0.18, ymin=mean-std, ymax=mean+std, colors=\"green\", lw =1)\n",
    "###\n",
    "\n",
    "xlocs, xlabs = plt.xticks()\n",
    "y = losses\n",
    "\n",
    "ax2 = plt.twinx(ax = ax)\n",
    "\n",
    "aux_df['epochs'].plot(ax = ax2, c=\"red\", style='.', markersize=5, marker=\"D\", label=\"Compute resources\")\n",
    "aux_df['epochs'].plot(ax = ax2, c=\"red\", style='.', markersize=9, marker=\"D\", label =\"\")\n",
    "ax2.set_xticklabels(labels = aux_df['method'])\n",
    "ax2.set_ylabel(\"Mean epochs\")\n",
    "\n",
    "ax2.set_ylim(top=3250)\n",
    "ax2.spines['right'].set_color('red')\n",
    "ax2.tick_params(axis='y', colors='red')\n",
    "ax2.yaxis.label.set_color('red')\n",
    "ax2.vlines(x=method, ymin=[np.min(epochs)-50]*len(epochs), ymax=epochs, colors=\"red\", lw =2)\n",
    "ax2.set_ylim(bottom=np.min(epochs)-50)\n",
    "\n",
    "### code for epochs confidence interval\n",
    "for i in range(3):\n",
    "        df = dfs[i]\n",
    "        std = df['epochs'].std()\n",
    "        mean = df['epochs'].mean()\n",
    "        ax2.hlines(y=mean+std, xmin=i-0.05, xmax=i+0.05, linewidth=1, color='red')\n",
    "        ax2.hlines(y=mean-std, xmin=i-0.05, xmax=i+0.05, linewidth=1, color='red')\n",
    "        ax2.vlines(x=i, ymin=mean-std, ymax=mean+std, colors=\"red\", lw =1)\n",
    "###\n",
    "for i, v in enumerate(y):\n",
    "        ax.text(xlocs[i] + 0.18, v + 0.08, \"{:.1f}\".format(v), weight = \"bold\", horizontalalignment='center')\n",
    "\n",
    "legend = plt.legend()\n",
    "add_patch(legend, (0.0, 1.0, 0.5, 0.65), \"Loss\")\n",
    "#plt.savefig(format=\"png\", dpi = 400, fname = \"mlpf_flat.png\",bbox_inches='tight')"
   ]
  },
  {
   "cell_type": "markdown",
   "metadata": {},
   "source": [
    "## LSTM"
   ]
  },
  {
   "cell_type": "markdown",
   "metadata": {},
   "source": [
    "### Load data"
   ]
  },
  {
   "cell_type": "code",
   "execution_count": null,
   "metadata": {},
   "outputs": [],
   "source": [
    "hb = pd.read_csv('./lstm_hyperband.csv')\n",
    "svr = pd.read_csv('./lstm_swift_svr.csv')\n",
    "qsvr = pd.read_csv('./lstm_swift_qsvr.csv')\n",
    "\n",
    "if hb['loss'][0] < 0 :\n",
    "    hb['loss'] = -1 * hb['loss']\n",
    "    svr['loss'] = -1 * svr['loss']\n",
    "    qsvr['loss'] = -1 * qsvr['loss']\n",
    "\n",
    "# setup the dataframe\n",
    "#method = ['Hyperband', 'Fast-Hyperband', 'V2-Fast-\\nHyperband', \"Quantum\\nV2-Fast-Hyperband\"]\n",
    "method = ['Hyperband', 'Swift-Hyperband\\nSVR', \"Swift-Hyperband\\n\"+r'$\\bf{Q}\\bf{-}\\bf{SVR}$']\n",
    "losses = [hb['loss'].mean(), svr['loss'].mean(), qsvr['loss'].mean()]\n",
    "epochs = [hb['epochs'].mean(), svr['epochs'].mean(), qsvr['epochs'].mean()]\n",
    "\n",
    "aux_df = pd.DataFrame({'method':method,'loss':losses, 'epochs': epochs})"
   ]
  },
  {
   "cell_type": "markdown",
   "metadata": {},
   "source": [
    "### Plot"
   ]
  },
  {
   "cell_type": "code",
   "execution_count": null,
   "metadata": {},
   "outputs": [],
   "source": [
    "fig, ax = plt.subplots(figsize=(9*0.7, 5*0.7))\n",
    "ax.bar(x='method', height='loss', data=aux_df, color=(0.0, 1.0, 0.5, 0.65), edgecolor=(0.0, 1.0, 0.5, 0.5), width=0.6)\n",
    "ax.grid(axis=\"y\")\n",
    "\n",
    "\n",
    "ax.set_ylim(bottom=0.7, top=0.8) #lstm\n",
    "ax.set_ylabel(\"Best accuracy found (\" + r\"$\\bf{higher}$ $\\bf{is}$ $\\bf{better}$\" +\")\")\n",
    "ax.set_title(\"51 Nodes runs - LSTM\")\n",
    "\n",
    "### code for loss/acc confidence interval\n",
    "dfs = [hb, svr, qsvr]\n",
    "for i in range(3):\n",
    "        df = dfs[i]\n",
    "        std = df['loss'].std()\n",
    "        mean = df['loss'].mean()\n",
    "        ax.hlines(y=mean+std, xmin=i-0.1-0.18, xmax=i+0.1-0.18, linewidth=2, color='green')\n",
    "        ax.hlines(y=mean-std, xmin=i-0.1-0.18, xmax=i+0.1-0.18, linewidth=2, color='green')\n",
    "        ax.vlines(x=i -0.18, ymin=mean-std, ymax=mean+std, colors=\"green\", lw =1)\n",
    "###\n",
    "\n",
    "xlocs, xlabs = plt.xticks()\n",
    "y = losses\n",
    "\n",
    "ax2 = plt.twinx(ax = ax)\n",
    "\n",
    "aux_df['epochs'].plot(ax = ax2, c=\"red\", style='.', markersize=5, marker=\"D\", label=\"Compute resources\")\n",
    "aux_df['epochs'].plot(ax = ax2, c=\"red\", style='.', markersize=9, marker=\"D\", label =\"\")\n",
    "ax2.set_xticklabels(labels = aux_df['method'])\n",
    "ax2.set_ylabel(\"Mean epochs\")\n",
    "\n",
    "\n",
    "ax2.spines['right'].set_color('red')\n",
    "ax2.tick_params(axis='y', colors='red')\n",
    "ax2.yaxis.label.set_color('red')\n",
    "ax2.vlines(x=method, ymin=[np.min(epochs)-200]*len(epochs), ymax=epochs, colors=\"red\", lw =2)\n",
    "ax2.set_ylim(bottom=np.min(epochs)-200)\n",
    "\n",
    "### code for epochs confidence interval\n",
    "\n",
    "for i in range(3):\n",
    "        df = dfs[i]\n",
    "        std = df['epochs'].std()\n",
    "        mean = df['epochs'].mean()\n",
    "        ax2.hlines(y=mean+std, xmin=i-0.05, xmax=i+0.05, linewidth=1, color='red')\n",
    "        ax2.hlines(y=mean-std, xmin=i-0.05, xmax=i+0.05, linewidth=1, color='red')\n",
    "        ax2.vlines(x=i, ymin=mean-std, ymax=mean+std, colors=\"red\", lw =1)\n",
    "\n",
    "###\n",
    "\n",
    "for i, v in enumerate(y):\n",
    "        ax.text(xlocs[i]+0.15, v + 0.0015, \"{:.3f}\".format(v), weight = \"bold\", horizontalalignment='center')\n",
    "\n",
    "\n",
    "legend = plt.legend()\n",
    "add_patch(legend, (0.0, 1.0, 0.5, 0.65), \"Accuracy\")\n",
    "#plt.savefig(format=\"png\", dpi = 400, fname = \"lstm_flat.png\",bbox_inches='tight')"
   ]
  }
 ],
 "metadata": {
  "kernelspec": {
   "display_name": "py39",
   "language": "python",
   "name": "python3"
  },
  "language_info": {
   "codemirror_mode": {
    "name": "ipython",
    "version": 3
   },
   "file_extension": ".py",
   "mimetype": "text/x-python",
   "name": "python",
   "nbconvert_exporter": "python",
   "pygments_lexer": "ipython3",
   "version": "3.11.5"
  },
  "orig_nbformat": 4
 },
 "nbformat": 4,
 "nbformat_minor": 2
}
